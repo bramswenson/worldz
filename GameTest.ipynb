{
 "cells": [
  {
   "cell_type": "code",
   "execution_count": 2,
   "metadata": {},
   "outputs": [],
   "source": [
    "import pandas as pd\n",
    "\n",
    "from map import main"
   ]
  },
  {
   "cell_type": "code",
   "execution_count": 3,
   "metadata": {},
   "outputs": [],
   "source": [
    "mapDetail = pd.read_csv(\"/app/data/mapDetail.csv\")"
   ]
  },
  {
   "cell_type": "code",
   "execution_count": 4,
   "metadata": {
    "collapsed": true
   },
   "outputs": [],
   "source": [
    "testmap = pd.read_csv(\"/app/data/testmap.csv\")"
   ]
  },
  {
   "cell_type": "code",
   "execution_count": 5,
   "metadata": {},
   "outputs": [
    {
     "name": "stdout",
     "output_type": "stream",
     "text": [
      "                     name                                               desc  \\\n",
      "0             Armored Car  A sturdy-looking Binks armored van sits uncere...   \n",
      "1              Vacant Lot  An expanse of puckered asphalt with weeds erru...   \n",
      "2               Junk Yard     An old junk yard full of sharp, rusty objects.   \n",
      "3                  Corner  There's a raucous dice game going down on this...   \n",
      "4                  Street  The burnt-out cars and shuttered buildings lin...   \n",
      "5               Warehouse  An empty industrial warehouse full of weird eq...   \n",
      "6                   Alley             A dark alley lined in grimy red brick.   \n",
      "7                Basement  A single bare bulb illuminates the center of t...   \n",
      "8   Stashhouse (Interior)  Ampules, vials, bundles, baggies, and bullet c...   \n",
      "9         Shady Residence  This old house looks like it might have been s...   \n",
      "10           Intersection  A collapsed traffic signal is the only sign th...   \n",
      "11                Hackers  This place is filled with fugitive hackers loo...   \n",
      "\n",
      "    maxMobs  maxMobLvl  \n",
      "0         1          5  \n",
      "1         3          2  \n",
      "2         2          2  \n",
      "3         0          0  \n",
      "4         1          2  \n",
      "5         0          0  \n",
      "6         2          3  \n",
      "7         1          8  \n",
      "8         5          3  \n",
      "9         5          2  \n",
      "10        2          2  \n",
      "11        0          0  \n"
     ]
    }
   ],
   "source": [
    "print mapDetail"
   ]
  },
  {
   "cell_type": "code",
   "execution_count": 6,
   "metadata": {},
   "outputs": [
    {
     "name": "stdout",
     "output_type": "stream",
     "text": [
      "              Unnamed: 0 Unnamed: 1 Armored Car    Vacant Lot Vacant Lot.1  \\\n",
      "0                    NaN        NaN         NaN           NaN       Corner   \n",
      "1                    NaN        NaN   Warehouse           NaN       Street   \n",
      "2               Basement        NaN       Alley         Alley        Alley   \n",
      "3  Stashhouse (Interior)        NaN         NaN        Street          NaN   \n",
      "4        Shady Residence        NaN         NaN        Street          NaN   \n",
      "5                 Street     Street      Street  Intersection       Street   \n",
      "\n",
      "  Junk Yard  \n",
      "0       NaN  \n",
      "1       NaN  \n",
      "2       NaN  \n",
      "3       NaN  \n",
      "4       NaN  \n",
      "5   Hackers  \n"
     ]
    }
   ],
   "source": [
    "print testmap"
   ]
  },
  {
   "cell_type": "code",
   "execution_count": 7,
   "metadata": {},
   "outputs": [
    {
     "name": "stdout",
     "output_type": "stream",
     "text": [
      "Columns: 6\n",
      "Rows: 7\n",
      "\n",
      "\n",
      "You are currently at: 2: 4 - Street\n",
      "The burnt-out cars and shuttered buildings lining this city street give it the unsettling (and accurate) feeling of a combat zone.\n",
      "To the South is Alley \n",
      "To the North is Corner \n",
      "Which way?  North\n",
      "\n",
      "\n",
      "You are currently at: 1: 4 - Corner\n",
      "There's a raucous dice game going down on this anonymous street corner.\n",
      "To the South is Street \n",
      "To the North is Vacant Lot \n",
      "Which way?  North\n",
      "\n",
      "\n",
      "You are currently at: 0: 4 - Vacant Lot\n",
      "An expanse of puckered asphalt with weeds errupting from the lattice of cracks in the pavement.\n",
      "To the East is Junk Yard \n",
      "To the West is Vacant Lot \n",
      "To the South is Corner \n",
      "Which way?  West\n",
      "\n",
      "\n",
      "You are currently at: 0: 3 - Vacant Lot\n",
      "An expanse of puckered asphalt with weeds errupting from the lattice of cracks in the pavement.\n",
      "To the East is Vacant Lot \n",
      "To the West is Armored Car \n",
      "Which way?  West\n",
      "\n",
      "\n",
      "You are currently at: 0: 2 - Armored Car\n",
      "A sturdy-looking Binks armored van sits unceremoniously perched on four mis-matched concrete blocks.  \n",
      "To the East is Vacant Lot \n",
      "Which way?  East\n",
      "\n",
      "\n",
      "You are currently at: 0: 3 - Vacant Lot\n",
      "An expanse of puckered asphalt with weeds errupting from the lattice of cracks in the pavement.\n",
      "To the East is Vacant Lot \n",
      "To the West is Armored Car \n"
     ]
    },
    {
     "ename": "KeyboardInterrupt",
     "evalue": "",
     "output_type": "error",
     "traceback": [
      "\u001b[0;31m\u001b[0m",
      "\u001b[0;31mKeyboardInterrupt\u001b[0mTraceback (most recent call last)",
      "\u001b[0;32m<ipython-input-7-f627c8175b62>\u001b[0m in \u001b[0;36m<module>\u001b[0;34m()\u001b[0m\n\u001b[0;32m----> 1\u001b[0;31m \u001b[0mmain\u001b[0m\u001b[0;34m(\u001b[0m\u001b[0;34m\"data/testmap.csv\"\u001b[0m\u001b[0;34m,\u001b[0m \u001b[0;34m\"data/mapDetail.csv\"\u001b[0m\u001b[0;34m)\u001b[0m\u001b[0;34m\u001b[0m\u001b[0m\n\u001b[0m",
      "\u001b[0;32m/app/map.pyc\u001b[0m in \u001b[0;36mmain\u001b[0;34m(mapfile, detfile)\u001b[0m\n\u001b[1;32m     80\u001b[0m             \u001b[0;32mprint\u001b[0m\u001b[0;34m(\u001b[0m\u001b[0;34m\"To the North is %s \"\u001b[0m \u001b[0;34m%\u001b[0m \u001b[0mMAP\u001b[0m\u001b[0;34m[\u001b[0m\u001b[0mcurA\u001b[0m\u001b[0;34m-\u001b[0m\u001b[0;36m1\u001b[0m\u001b[0;34m]\u001b[0m\u001b[0;34m[\u001b[0m\u001b[0mcurB\u001b[0m\u001b[0;34m]\u001b[0m\u001b[0;34m.\u001b[0m\u001b[0mname\u001b[0m\u001b[0;34m)\u001b[0m\u001b[0;34m\u001b[0m\u001b[0m\n\u001b[1;32m     81\u001b[0m \u001b[0;34m\u001b[0m\u001b[0m\n\u001b[0;32m---> 82\u001b[0;31m         \u001b[0mmove\u001b[0m \u001b[0;34m=\u001b[0m \u001b[0mraw_input\u001b[0m\u001b[0;34m(\u001b[0m\u001b[0;34m\"Which way?  \"\u001b[0m\u001b[0;34m)\u001b[0m\u001b[0;34m\u001b[0m\u001b[0m\n\u001b[0m\u001b[1;32m     83\u001b[0m         \u001b[0;32mtry\u001b[0m\u001b[0;34m:\u001b[0m\u001b[0;34m\u001b[0m\u001b[0m\n\u001b[1;32m     84\u001b[0m             \u001b[0;32mif\u001b[0m \u001b[0mmove\u001b[0m\u001b[0;34m[\u001b[0m\u001b[0;36m0\u001b[0m\u001b[0;34m]\u001b[0m\u001b[0;34m.\u001b[0m\u001b[0mcapitalize\u001b[0m\u001b[0;34m(\u001b[0m\u001b[0;34m)\u001b[0m \u001b[0;34m==\u001b[0m \u001b[0;34m\"N\"\u001b[0m \u001b[0;32mand\u001b[0m \u001b[0mcurA\u001b[0m \u001b[0;34m>\u001b[0m \u001b[0;36m0\u001b[0m \u001b[0;32mand\u001b[0m \u001b[0mMAP\u001b[0m\u001b[0;34m[\u001b[0m\u001b[0mcurA\u001b[0m\u001b[0;34m-\u001b[0m\u001b[0;36m1\u001b[0m\u001b[0;34m]\u001b[0m\u001b[0;34m[\u001b[0m\u001b[0mcurB\u001b[0m\u001b[0;34m]\u001b[0m\u001b[0;34m.\u001b[0m\u001b[0mname\u001b[0m \u001b[0;34m!=\u001b[0m \u001b[0;34m''\u001b[0m\u001b[0;34m:\u001b[0m\u001b[0;34m\u001b[0m\u001b[0m\n",
      "\u001b[0;32m/opt/conda/envs/python2/lib/python2.7/site-packages/ipykernel/kernelbase.pyc\u001b[0m in \u001b[0;36mraw_input\u001b[0;34m(self, prompt)\u001b[0m\n\u001b[1;32m    703\u001b[0m             \u001b[0mself\u001b[0m\u001b[0;34m.\u001b[0m\u001b[0m_parent_ident\u001b[0m\u001b[0;34m,\u001b[0m\u001b[0;34m\u001b[0m\u001b[0m\n\u001b[1;32m    704\u001b[0m             \u001b[0mself\u001b[0m\u001b[0;34m.\u001b[0m\u001b[0m_parent_header\u001b[0m\u001b[0;34m,\u001b[0m\u001b[0;34m\u001b[0m\u001b[0m\n\u001b[0;32m--> 705\u001b[0;31m             \u001b[0mpassword\u001b[0m\u001b[0;34m=\u001b[0m\u001b[0mFalse\u001b[0m\u001b[0;34m,\u001b[0m\u001b[0;34m\u001b[0m\u001b[0m\n\u001b[0m\u001b[1;32m    706\u001b[0m         )\n\u001b[1;32m    707\u001b[0m \u001b[0;34m\u001b[0m\u001b[0m\n",
      "\u001b[0;32m/opt/conda/envs/python2/lib/python2.7/site-packages/ipykernel/kernelbase.pyc\u001b[0m in \u001b[0;36m_input_request\u001b[0;34m(self, prompt, ident, parent, password)\u001b[0m\n\u001b[1;32m    733\u001b[0m             \u001b[0;32mexcept\u001b[0m \u001b[0mKeyboardInterrupt\u001b[0m\u001b[0;34m:\u001b[0m\u001b[0;34m\u001b[0m\u001b[0m\n\u001b[1;32m    734\u001b[0m                 \u001b[0;31m# re-raise KeyboardInterrupt, to truncate traceback\u001b[0m\u001b[0;34m\u001b[0m\u001b[0;34m\u001b[0m\u001b[0m\n\u001b[0;32m--> 735\u001b[0;31m                 \u001b[0;32mraise\u001b[0m \u001b[0mKeyboardInterrupt\u001b[0m\u001b[0;34m\u001b[0m\u001b[0m\n\u001b[0m\u001b[1;32m    736\u001b[0m             \u001b[0;32melse\u001b[0m\u001b[0;34m:\u001b[0m\u001b[0;34m\u001b[0m\u001b[0m\n\u001b[1;32m    737\u001b[0m                 \u001b[0;32mbreak\u001b[0m\u001b[0;34m\u001b[0m\u001b[0m\n",
      "\u001b[0;31mKeyboardInterrupt\u001b[0m: "
     ]
    }
   ],
   "source": [
    "main(\"data/testmap.csv\", \"data/mapDetail.csv\")"
   ]
  }
 ],
 "metadata": {
  "kernelspec": {
   "display_name": "Python 2",
   "language": "python",
   "name": "python2"
  },
  "language_info": {
   "codemirror_mode": {
    "name": "ipython",
    "version": 2
   },
   "file_extension": ".py",
   "mimetype": "text/x-python",
   "name": "python",
   "nbconvert_exporter": "python",
   "pygments_lexer": "ipython2",
   "version": "2.7.13"
  }
 },
 "nbformat": 4,
 "nbformat_minor": 2
}
